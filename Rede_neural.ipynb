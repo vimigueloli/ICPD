{
  "nbformat": 4,
  "nbformat_minor": 0,
  "metadata": {
    "colab": {
      "name": "Rede_neural",
      "provenance": [],
      "include_colab_link": true
    },
    "kernelspec": {
      "display_name": "Python 3",
      "name": "python3"
    },
    "language_info": {
      "name": "python"
    }
  },
  "cells": [
    {
      "cell_type": "markdown",
      "metadata": {
        "id": "view-in-github",
        "colab_type": "text"
      },
      "source": [
        "<a href=\"https://colab.research.google.com/github/vimigueloli/ICPD/blob/main/Rede_neural.ipynb\" target=\"_parent\"><img src=\"https://colab.research.google.com/assets/colab-badge.svg\" alt=\"Open In Colab\"/></a>"
      ]
    },
    {
      "cell_type": "markdown",
      "metadata": {
        "id": "U7S8bxf6RrUU"
      },
      "source": [
        "A seguir será desenvolvida a Logica por trás da IA de analise e em seguida essa logica sera convertida em uma classe para implementação do codigo em qualquer aplicação\n",
        "\n",
        "lembrando que para o funcionamento dessa classe apresentada no final do notebook sempre será necessário ajustar a licença para download de arquivos do kaggle"
      ]
    },
    {
      "cell_type": "code",
      "metadata": {
        "id": "9QnwBBJ-ieyO",
        "colab": {
          "base_uri": "https://localhost:8080/"
        },
        "outputId": "f563facb-092d-4dc1-c49d-b1b877295c48"
      },
      "source": [
        " ##configurando o funcionamento do kaggle para a importação dos dados\n",
        "import os\n",
        "os.environ['KAGGLE_CONFIG_DIR']='/content'\n",
        "!kaggle datasets download -d fedesoriano/stroke-prediction-dataset ##vale a pena ressaltar que para o funcionamento desse bloco é necessário upar para a aba de arquivos uma licensa de download do site kaggle\n",
        "\n",
        "##Extraindo os arquivos que vieram compactados do kaggle\n",
        "import zipfile\n",
        "with zipfile.ZipFile('/content/stroke-prediction-dataset.zip', 'r') as zip_ref:\n",
        "    zip_ref.extractall('/content')"
      ],
      "execution_count": 1,
      "outputs": [
        {
          "output_type": "stream",
          "text": [
            "Warning: Your Kaggle API key is readable by other users on this system! To fix this, you can run 'chmod 600 /content/kaggle.json'\n",
            "Downloading stroke-prediction-dataset.zip to /content\n",
            "  0% 0.00/67.4k [00:00<?, ?B/s]\n",
            "100% 67.4k/67.4k [00:00<00:00, 26.5MB/s]\n"
          ],
          "name": "stdout"
        }
      ]
    },
    {
      "cell_type": "code",
      "metadata": {
        "id": "IPQweZfWjYoj"
      },
      "source": [
        "##passando os dados que vão ser analizados para uma variavel\n",
        "import pandas as pd\n",
        "dados= pd.read_csv('healthcare-dataset-stroke-data.csv')\n",
        "dados1= pd.read_csv('healthcare-dataset-stroke-data.csv')"
      ],
      "execution_count": 49,
      "outputs": []
    },
    {
      "cell_type": "code",
      "metadata": {
        "id": "Y-Cb-ghqXGNE",
        "colab": {
          "base_uri": "https://localhost:8080/"
        },
        "outputId": "efee9edd-2daf-4324-94af-03f96da89b1b"
      },
      "source": [
        "##pre processamento dos dados transformando palavras em numeros e preenchendo valores vazios para indicar uma classificação pois IA não lida bem com strings\n",
        "from sklearn.preprocessing import LabelEncoder\n",
        "\n",
        "##preenchendo valores vazios\n",
        "dados['smoking_status'] = dados['smoking_status'].replace(['Unknown'], 'never smoked')\n",
        "dados[['bmi']]=dados[['bmi']].fillna(26)\n",
        "\n",
        "rapidinho = dados['smoking_status'].unique()\n",
        "\n",
        "##transformando strings em numeros\n",
        "classificador = LabelEncoder() \n",
        "dados[['gender']] = classificador.fit_transform(dados[['gender']])\n",
        "dados[['ever_married']] = classificador.fit_transform(dados[['ever_married']])\n",
        "dados[['work_type']] = classificador.fit_transform(dados[['work_type']])\n",
        "dados[['Residence_type']] = classificador.fit_transform(dados[['Residence_type']])\n",
        "dados[['smoking_status']] = classificador.fit_transform(dados[['smoking_status']])"
      ],
      "execution_count": 51,
      "outputs": [
        {
          "output_type": "stream",
          "text": [
            "/usr/local/lib/python3.7/dist-packages/sklearn/preprocessing/_label.py:251: DataConversionWarning: A column-vector y was passed when a 1d array was expected. Please change the shape of y to (n_samples, ), for example using ravel().\n",
            "  y = column_or_1d(y, warn=True)\n"
          ],
          "name": "stderr"
        }
      ]
    },
    {
      "cell_type": "code",
      "metadata": {
        "colab": {
          "base_uri": "https://localhost:8080/"
        },
        "id": "K0o2gJOMuEk-",
        "outputId": "4f8da95c-a88a-479d-b163-dacf8b631906"
      },
      "source": [
        "##mesmo processo adaptado para o comitê\n",
        "from sklearn.preprocessing import LabelEncoder\n",
        "\n",
        "##preenchendo valores vazios\n",
        "dados1['smoking_status'] = dados1['smoking_status'].replace(['Unknown'], 'never smoked')\n",
        "dados1[['bmi']]=dados[['bmi']].fillna(26)\n",
        "\n",
        "##transformando strings em numeros\n",
        "classificador = LabelEncoder() \n",
        "dados1[['gender']] = classificador.fit_transform(dados1[['gender']])\n",
        "dados1[['ever_married']] = classificador.fit_transform(dados1[['ever_married']])\n",
        "dados1[['work_type']] = classificador.fit_transform(dados1[['work_type']])\n",
        "dados1[['Residence_type']] = classificador.fit_transform(dados1[['Residence_type']])\n",
        "dados1[['smoking_status']] = classificador.fit_transform(dados1[['smoking_status']])"
      ],
      "execution_count": null,
      "outputs": [
        {
          "output_type": "stream",
          "text": [
            "/usr/local/lib/python3.7/dist-packages/sklearn/preprocessing/_label.py:251: DataConversionWarning: A column-vector y was passed when a 1d array was expected. Please change the shape of y to (n_samples, ), for example using ravel().\n",
            "  y = column_or_1d(y, warn=True)\n"
          ],
          "name": "stderr"
        }
      ]
    },
    {
      "cell_type": "code",
      "metadata": {
        "id": "2UB8d_zJCdf9"
      },
      "source": [
        "## gerando graficos de comparação de dados do banco\n",
        "import seaborn as snb\n",
        "\n",
        "snb.pairplot(dados,hue = 'stroke')"
      ],
      "execution_count": null,
      "outputs": []
    },
    {
      "cell_type": "markdown",
      "metadata": {
        "id": "-oSR2YjvSwN4"
      },
      "source": [
        "vale apena destacar que os proximos 3 blocos de código são escolhas diferentes de trabalhar com o banco de dado e foi decidido expor as 3 opções para mostrar o estudo feito na escolha da melhor forma de lidar com os dados"
      ]
    },
    {
      "cell_type": "code",
      "metadata": {
        "id": "1J8k5eiEE-aN"
      },
      "source": [
        "##faz o undersampling\n",
        "import numpy as np\n",
        "\n",
        "## separa os pacientes que não tiveram derrame\n",
        "saudaveis = dados[dados.stroke == 0].index\n",
        "\n",
        "amostra_s = np.random.choice(saudaveis, 250, replace=False)\n",
        "## separa os pacientes que tiveram derrame\n",
        "doentes = dados[dados.stroke == 1].index\n",
        "\n",
        "##junta os pacientes e sapara os dados a serem analizados das conclusões laboratoriais\n",
        "amostra = dados.loc[amostra_s]\n",
        "amostra = amostra.append(dados.loc[doentes])\n",
        "dados = amostra\n",
        "x= dados[['gender','age','hypertension','heart_disease','ever_married','work_type','Residence_type','avg_glucose_level','bmi','smoking_status']]\n",
        "y= dados[['stroke']]"
      ],
      "execution_count": null,
      "outputs": []
    },
    {
      "cell_type": "code",
      "metadata": {
        "id": "-GxJ_03rb4Xo",
        "colab": {
          "base_uri": "https://localhost:8080/"
        },
        "outputId": "249388c9-dca5-40de-8009-ead881e1e3ec"
      },
      "source": [
        "##faz o Oversampling para lidar com o banco de dados desbalanceado\n",
        "from imblearn.over_sampling import SMOTENC\n",
        "\n",
        "##separa os dados a serem analizados das conclusões laboratoriais\n",
        "x= dados[['gender','age','hypertension','heart_disease','ever_married','work_type','Residence_type','avg_glucose_level','bmi','smoking_status']]\n",
        "y= dados[['stroke']]\n",
        "\n",
        "##gera os dados de maneira estatistica\n",
        "smt=SMOTENC(categorical_features=[0, 2], random_state=0)\n",
        "x,y = smt.fit_resample(x,y)\n",
        "\n",
        "## arredonda e reagrupa os dados em uma dataframe pandas \n",
        "x = pd.DataFrame(x,columns=['gender','age','hypertension','heart_disease','ever_married','work_type','Residence_type','avg_glucose_level','bmi','smoking_status'])\n",
        "x['work_type'] = x['work_type'].round(0)      \n",
        "x['smoking_status'] = x['smoking_status'].round(0)  \n",
        "x['Residence_type'] = x['Residence_type'].round(0)\n",
        "x['heart_disease'] = x['heart_disease'].round(0)\n",
        "x['ever_married'] = x['ever_married'].round(0)\n",
        "x['age'] = x['age'].round(0)\n",
        "y = pd.DataFrame(y,columns=['stroke'])\n",
        "\n",
        "## reconstroi o dataframe original após o oversampling para analises\n",
        "dados = x\n",
        "dados.insert(10, 'stroke', 0, allow_duplicates=False)\n",
        "dados[['stroke']] = y\n",
        "\n",
        "## devido a um bug na reconstrução dos dados o x é novamente separado \n",
        "x = x[['gender','age','hypertension','heart_disease','ever_married','work_type','Residence_type','avg_glucose_level','bmi','smoking_status']]\n"
      ],
      "execution_count": null,
      "outputs": [
        {
          "output_type": "stream",
          "text": [
            "/usr/local/lib/python3.7/dist-packages/sklearn/utils/validation.py:760: DataConversionWarning: A column-vector y was passed when a 1d array was expected. Please change the shape of y to (n_samples, ), for example using ravel().\n",
            "  y = column_or_1d(y, warn=True)\n",
            "/usr/local/lib/python3.7/dist-packages/sklearn/utils/deprecation.py:87: FutureWarning: Function safe_indexing is deprecated; safe_indexing is deprecated in version 0.22 and will be removed in version 0.24.\n",
            "  warnings.warn(msg, category=FutureWarning)\n",
            "/usr/local/lib/python3.7/dist-packages/sklearn/utils/deprecation.py:87: FutureWarning: Function safe_indexing is deprecated; safe_indexing is deprecated in version 0.22 and will be removed in version 0.24.\n",
            "  warnings.warn(msg, category=FutureWarning)\n"
          ],
          "name": "stderr"
        }
      ]
    },
    {
      "cell_type": "code",
      "metadata": {
        "colab": {
          "base_uri": "https://localhost:8080/"
        },
        "id": "_9JbfYnQdYT0",
        "outputId": "6cdf7438-9225-450d-b447-b01ae102d434"
      },
      "source": [
        "##uso dos dois casos para o comitê\n",
        "from imblearn.over_sampling import SMOTENC\n",
        "import pandas as pd\n",
        "import numpy as np\n",
        "\n",
        "##undersampling\n",
        "\n",
        "## separa os pacientes que não tiveram derrame\n",
        "saudaveis = dados1[dados1.stroke == 0].index\n",
        "\n",
        "amostra_s = np.random.choice(saudaveis, 250, replace=False)\n",
        "## separa os pacientes que tiveram derrame\n",
        "doentes = dados1[dados1.stroke == 1].index\n",
        "\n",
        "##junta os pacientes e sapara os dados a serem analizados das conclusões laboratoriais\n",
        "amostra = dados1.loc[amostra_s]\n",
        "amostra = amostra.append(dados1.loc[doentes])\n",
        "dados1  = amostra\n",
        "x1= dados1[['gender','age','hypertension','heart_disease','ever_married','work_type','Residence_type','avg_glucose_level','bmi','smoking_status']]\n",
        "y1= dados1[['stroke']]\n",
        "\n",
        "##oversampling\n",
        "\n",
        "##separa os dados a serem analizados das conclusões laboratoriais\n",
        "x= dados[['gender','age','hypertension','heart_disease','ever_married','work_type','Residence_type','avg_glucose_level','bmi','smoking_status']]\n",
        "y= dados[['stroke']]\n",
        "\n",
        "##gera os dados de maneira estatistica\n",
        "smt=SMOTENC(categorical_features=[0, 2], random_state=0)\n",
        "x,y = smt.fit_resample(x,y)\n",
        "\n",
        "## arredonda e reagrupa os dados em uma dataframe pandas \n",
        "x = pd.DataFrame(x,columns=['gender','age','hypertension','heart_disease','ever_married','work_type','Residence_type','avg_glucose_level','bmi','smoking_status'])\n",
        "x['work_type'] = x['work_type'].round(0)      \n",
        "x['smoking_status'] = x['smoking_status'].round(0)  \n",
        "x['Residence_type'] = x['Residence_type'].round(0)\n",
        "x['heart_disease'] = x['heart_disease'].round(0)\n",
        "x['ever_married'] = x['ever_married'].round(0)\n",
        "x['age'] = x['age'].round(0)\n",
        "y = pd.DataFrame(y,columns=['stroke'])\n",
        "\n",
        "## reconstroi o dataframe original após o oversampling para analises\n",
        "dados = x\n",
        "dados.insert(10, 'stroke', 0, allow_duplicates=False)\n",
        "dados[['stroke']] = y\n",
        "\n",
        "## devido a um bug na reconstrução dos dados o x é novamente separado \n",
        "x = x[['gender','age','hypertension','heart_disease','ever_married','work_type','Residence_type','avg_glucose_level','bmi','smoking_status']]"
      ],
      "execution_count": null,
      "outputs": [
        {
          "output_type": "stream",
          "text": [
            "/usr/local/lib/python3.7/dist-packages/sklearn/externals/six.py:31: FutureWarning: The module is deprecated in version 0.21 and will be removed in version 0.23 since we've dropped support for Python 2.7. Please rely on the official version of six (https://pypi.org/project/six/).\n",
            "  \"(https://pypi.org/project/six/).\", FutureWarning)\n",
            "/usr/local/lib/python3.7/dist-packages/sklearn/utils/deprecation.py:144: FutureWarning: The sklearn.neighbors.base module is  deprecated in version 0.22 and will be removed in version 0.24. The corresponding classes / functions should instead be imported from sklearn.neighbors. Anything that cannot be imported from sklearn.neighbors is now part of the private API.\n",
            "  warnings.warn(message, FutureWarning)\n",
            "/usr/local/lib/python3.7/dist-packages/sklearn/utils/validation.py:760: DataConversionWarning: A column-vector y was passed when a 1d array was expected. Please change the shape of y to (n_samples, ), for example using ravel().\n",
            "  y = column_or_1d(y, warn=True)\n",
            "/usr/local/lib/python3.7/dist-packages/sklearn/utils/deprecation.py:87: FutureWarning: Function safe_indexing is deprecated; safe_indexing is deprecated in version 0.22 and will be removed in version 0.24.\n",
            "  warnings.warn(msg, category=FutureWarning)\n",
            "/usr/local/lib/python3.7/dist-packages/sklearn/utils/deprecation.py:87: FutureWarning: Function safe_indexing is deprecated; safe_indexing is deprecated in version 0.22 and will be removed in version 0.24.\n",
            "  warnings.warn(msg, category=FutureWarning)\n"
          ],
          "name": "stderr"
        }
      ]
    },
    {
      "cell_type": "code",
      "metadata": {
        "id": "6siYjV6kcpdG"
      },
      "source": [
        "##mostra os dados após o oversampling  ou under sampling\n",
        "import seaborn as snb\n",
        "\n",
        "snb.pairplot(dados,hue = 'stroke')"
      ],
      "execution_count": null,
      "outputs": []
    },
    {
      "cell_type": "markdown",
      "metadata": {
        "id": "WFe087S2znRY"
      },
      "source": [
        "Os blocos seguintes são diferentes tipos de modelo de Inteligência Artificial com diferentes configurações para a analize das melhores"
      ]
    },
    {
      "cell_type": "code",
      "metadata": {
        "id": "nzY2ien8ypVm"
      },
      "source": [
        "## rede neural para classificação com porcentagem SVM\n",
        "from sklearn.svm import SVC\n",
        "\n",
        "modelo = SVC(probability = True, kernel= 'rbf')\n"
      ],
      "execution_count": null,
      "outputs": []
    },
    {
      "cell_type": "code",
      "metadata": {
        "id": "rcQ1C9Mu1-Hp"
      },
      "source": [
        "## rede neural para classificação com porcentagem SVM\n",
        "from sklearn.svm import SVC\n",
        "\n",
        "modelo = SVC(probability = True, kernel= 'linear')\n"
      ],
      "execution_count": null,
      "outputs": []
    },
    {
      "cell_type": "code",
      "metadata": {
        "id": "n1eqvIa91-OQ"
      },
      "source": [
        "## rede neural para classificação com porcentagem SVM\n",
        "from sklearn.svm import SVC\n",
        "\n",
        "modelo = SVC(probability = True, kernel= 'sigmoid')\n"
      ],
      "execution_count": null,
      "outputs": []
    },
    {
      "cell_type": "code",
      "metadata": {
        "id": "dWiFJTkk1-UX"
      },
      "source": [
        "## rede neural para classificação com porcentagem SVM\n",
        "from sklearn.svm import SVC\n",
        "\n",
        "modelo = SVC(probability = True, kernel= 'poly',degree=2)\n"
      ],
      "execution_count": null,
      "outputs": []
    },
    {
      "cell_type": "code",
      "metadata": {
        "id": "tWB1l2YGvzzc"
      },
      "source": [
        "## rede neural para classificação com porcentagem KNN\n",
        "from sklearn.neighbors import KNeighborsClassifier\n",
        "\n",
        "modelo = KNeighborsClassifier(weights='distance', n_neighbors= 10)\n"
      ],
      "execution_count": null,
      "outputs": []
    },
    {
      "cell_type": "code",
      "metadata": {
        "id": "ALM9p0n-b89u"
      },
      "source": [
        "## rede neural para classificação com porcentagem MLP\n",
        "from sklearn.neural_network import MLPClassifier\n",
        "\n",
        "modelo = MLPClassifier(random_state=2, hidden_layer_sizes = (200,2),learning_rate= 'adaptive')"
      ],
      "execution_count": null,
      "outputs": []
    },
    {
      "cell_type": "code",
      "metadata": {
        "id": "ZUUiTuvDc19d"
      },
      "source": [
        "## rede neural para classificação por porcentagem com comitê\n",
        "from sklearn.neighbors import KNeighborsClassifier\n",
        "from sklearn.svm import SVC\n",
        "from sklearn.neural_network import MLPClassifier\n",
        "\n",
        "modelo = MLPClassifier(random_state=2, hidden_layer_sizes = (200,2),learning_rate= 'adaptive')\n",
        "modelo1 = KNeighborsClassifier(weights='distance', n_neighbors= 10)\n",
        "modelo2  = SVC(probability = True, kernel= 'poly',degree=2)\n",
        "\n"
      ],
      "execution_count": null,
      "outputs": []
    },
    {
      "cell_type": "markdown",
      "metadata": {
        "id": "e1N7XwLg2rAe"
      },
      "source": [
        "treino e teste da rede neural"
      ]
    },
    {
      "cell_type": "code",
      "metadata": {
        "id": "GMqvKZr0ywUs"
      },
      "source": [
        "## testa e treina a rede gerando dados para analise (casos unitarios)\n",
        "from sklearn.metrics import accuracy_score \n",
        "from sklearn.metrics import classification_report\n",
        "from sklearn.model_selection import train_test_split\n",
        "\n",
        "## separa a amostra de teste e de treino e logo em seguida treina a rede neural\n",
        "treino_x, teste_x, treino_y, teste_y = train_test_split(x,y)\n",
        "modelo.fit(treino_x,treino_y)\n",
        "\n",
        "## apos o treino testa a rede e gera alguns dados para a analise de seu desempenho e para geração de graficos\n",
        "respostas_proba = (modelo.predict_proba(teste_x))*100\n",
        "respostas = modelo.predict(teste_x)\n",
        "acuracia = accuracy_score(teste_y,respostas)\n",
        "acuracia = acuracia*100\n",
        "respostas_proba =pd.DataFrame(respostas_proba,columns=['falha','sucesso']) \n",
        "respostas_proba = respostas_proba[['sucesso']]\n",
        "respostas_certas = teste_y*100\n",
        "print(classification_report(teste_y,respostas))\n",
        "print(acuracia)"
      ],
      "execution_count": null,
      "outputs": []
    },
    {
      "cell_type": "code",
      "metadata": {
        "colab": {
          "base_uri": "https://localhost:8080/"
        },
        "id": "vNWIAmwMe-2_",
        "outputId": "2e2a8c5e-737b-4af4-ea15-271bbb8c2f86"
      },
      "source": [
        "## testa e treina a rede gerando dados para analise (caso de comitê)\n",
        "from sklearn.metrics import accuracy_score \n",
        "from sklearn.metrics import classification_report\n",
        "from sklearn.model_selection import train_test_split\n",
        "\n",
        "## separa a amostra de teste e de treino e logo em seguida treina a rede neural\n",
        "treino_x, teste_x, treino_y, teste_y = train_test_split(x,y)\n",
        "treino_x1, teste_x1, treino_y1, teste_y1 = train_test_split(x1,y1)\n",
        "modelo.fit(treino_x,treino_y)\n",
        "modelo1.fit(treino_x,treino_y)\n",
        "modelo2.fit(treino_x1,treino_y1)\n",
        "\n",
        "## apos o treino testa a rede e gera alguns dados para a analise de seu desempenho e para geração de graficos\n",
        "respostas_proba0  = (modelo.predict_proba(teste_x))*100\n",
        "respostas_proba1 = (modelo1.predict_proba(teste_x))*100\n",
        "respostas_proba2 = (modelo2.predict_proba(teste_x))*100\n",
        "respostas0  = modelo.predict(teste_x)\n",
        "respostas1 = modelo1.predict(teste_x)\n",
        "respostas2 = modelo2.predict(teste_x)\n",
        "acuracia = accuracy_score(teste_y,respostas0)*100\n",
        "acuracia1 = accuracy_score(teste_y,respostas1)*100\n",
        "acuracia2 = accuracy_score(teste_y,respostas2)*100\n",
        "\n",
        "respostas_proba0 =pd.DataFrame(respostas_proba0, columns=['falha','sucesso']) \n",
        "respostas_proba0 = respostas_proba0[['sucesso']]\n",
        "\n",
        "respostas_proba1 =pd.DataFrame(respostas_proba1,columns=['falha','sucesso']) \n",
        "respostas_proba1 = respostas_proba1[['sucesso']]\n",
        "\n",
        "respostas_proba2 =pd.DataFrame(respostas_proba2,columns=['falha','sucesso']) \n",
        "respostas_proba2 = respostas_proba2[['sucesso']]\n",
        "\n",
        "\n",
        "lista  = list(respostas_proba0['sucesso'])\n",
        "lista1 = list(respostas_proba1['sucesso'])\n",
        "lista2 = list(respostas_proba2['sucesso'])\n",
        "\n",
        "listas = (lista,lista1,lista2)\n",
        "listas = np.array(listas).T\n",
        "probabilidade =pd.DataFrame(listas,columns=['sucesso0','sucesso1','sucesso2']) \n",
        "probabilidade['sucesso'] = probabilidade.sum(axis=1)\n",
        "probabilidade['sucesso'] = probabilidade['sucesso']/3\n",
        "respostas_proba = np.array(probabilidade['sucesso'])\n",
        "respostas_proba =pd.DataFrame(respostas_proba,columns=['sucesso'])\n",
        "\n",
        "respostas = (respostas0,respostas1,respostas2)\n",
        "\n",
        "respostas = np.array(respostas).T\n",
        "comite =pd.DataFrame(respostas,columns=['chute','chute1','chute2']) \n",
        "comite['soma'] = comite.sum(axis=1)\n",
        "respostas = comite['soma']/3\n",
        "respostas = respostas.round()\n",
        "\n",
        "\n",
        "\n",
        "\n",
        "respostas_certas = teste_y*100\n",
        "\n",
        "\n",
        "print(classification_report(teste_y,respostas))\n",
        "print(acuracia)\n"
      ],
      "execution_count": null,
      "outputs": [
        {
          "output_type": "stream",
          "text": [
            "/usr/local/lib/python3.7/dist-packages/sklearn/neural_network/_multilayer_perceptron.py:934: DataConversionWarning: A column-vector y was passed when a 1d array was expected. Please change the shape of y to (n_samples, ), for example using ravel().\n",
            "  y = column_or_1d(y, warn=True)\n"
          ],
          "name": "stderr"
        },
        {
          "output_type": "stream",
          "text": [
            "              precision    recall  f1-score   support\n",
            "\n",
            "           0       0.89      0.77      0.83      1219\n",
            "           1       0.80      0.91      0.85      1212\n",
            "\n",
            "    accuracy                           0.84      2431\n",
            "   macro avg       0.85      0.84      0.84      2431\n",
            "weighted avg       0.85      0.84      0.84      2431\n",
            "\n",
            "83.79267791032497\n"
          ],
          "name": "stdout"
        },
        {
          "output_type": "stream",
          "text": [
            "/usr/local/lib/python3.7/dist-packages/ipykernel_launcher.py:10: DataConversionWarning: A column-vector y was passed when a 1d array was expected. Please change the shape of y to (n_samples, ), for example using ravel().\n",
            "  # Remove the CWD from sys.path while we load stuff.\n",
            "/usr/local/lib/python3.7/dist-packages/sklearn/utils/validation.py:760: DataConversionWarning: A column-vector y was passed when a 1d array was expected. Please change the shape of y to (n_samples, ), for example using ravel().\n",
            "  y = column_or_1d(y, warn=True)\n"
          ],
          "name": "stderr"
        }
      ]
    },
    {
      "cell_type": "markdown",
      "metadata": {
        "id": "BiXeVGua0uw0"
      },
      "source": [
        "após a analise da IA basta gerar um grafico de seu desempenho e posibilitar a analise de um diagnóstico"
      ]
    },
    {
      "cell_type": "code",
      "metadata": {
        "id": "xzaEUgJiErBI",
        "colab": {
          "base_uri": "https://localhost:8080/",
          "height": 714
        },
        "outputId": "15db37dc-0a4e-4a3a-b04d-44e92e3cdc61"
      },
      "source": [
        "## gerando um grafico para vizualização do desempenho da rede neural\n",
        "import matplotlib.pyplot as mp\n",
        "import numpy as np\n",
        "\n",
        "## define o tamanho da amostra que vai para o grafico\n",
        "respostas_certas = respostas_certas.head(51) \n",
        "respostas_proba = respostas_proba.head(51)\n",
        "\n",
        "## define os dados do grafico e transforma em numpy arrays para que possam ser plotados\n",
        "altura1 = []\n",
        "altura2 = []\n",
        "altura3 = []\n",
        "for eixo in respostas_certas['stroke']:\n",
        "  altura1.append(eixo)\n",
        "for eixo in respostas_proba['sucesso']:\n",
        "  altura2.append(eixo)\n",
        "for altura in altura1:\n",
        "  altura3.append((altura-100)*-1)\n",
        "tamanho = np.arange(51)\n",
        "\n",
        "##plota os dados no grafico\n",
        "fig,ax = mp.subplots(figsize=(20,12))\n",
        "mp.bar(tamanho,altura3,color = '#92e698')\n",
        "mp.bar(tamanho,altura1,color = '#e69292')\n",
        "mp.plot(tamanho,respostas_proba[['sucesso']],lw=1,marker='o',ms=6,c='#4946c5')\n",
        "mp.xlabel('Pacientes')\n",
        "mp.ylabel('porcentagem')\n",
        "mp.grid()\n",
        "mp.show()"
      ],
      "execution_count": null,
      "outputs": [
        {
          "output_type": "display_data",
          "data": {
            "image/png": "[encoded data removed]",
            "text/plain": [
              "<Figure size 1440x864 with 1 Axes>"
            ]
          },
          "metadata": {
            "tags": [],
            "needs_background": "light"
          }
        }
      ]
    },
    {
      "cell_type": "code",
      "metadata": {
        "id": "GoZXY8CTZAs8",
        "colab": {
          "base_uri": "https://localhost:8080/",
          "height": 80
        },
        "outputId": "0576946f-bfeb-4c39-b6c1-4297478d4634"
      },
      "source": [
        "##testa o paciente com a rede gerada\n",
        "\n",
        "##recebe os dados do paciente\n",
        "paciente = [[1,21,0,0,0,1,1,80,26.7,2]]\n",
        "paciente = pd.DataFrame(paciente,columns=['gender','age','hypertension','heart_disease','ever_married','work_type','Residence_type','avg_glucose_level','bmi','smoking_status'])\n",
        "\n",
        "##analiza os dados com a rede neural e mostra o resultado\n",
        "chute = modelo.predict_proba(paciente) * 100\n",
        "chute = pd.DataFrame(chute,columns=['falha','sucesso']) \n",
        "chute[['sucesso']]"
      ],
      "execution_count": null,
      "outputs": [
        {
          "output_type": "execute_result",
          "data": {
            "text/html": [
              "<div>\n",
              "<style scoped>\n",
              "    .dataframe tbody tr th:only-of-type {\n",
              "        vertical-align: middle;\n",
              "    }\n",
              "\n",
              "    .dataframe tbody tr th {\n",
              "        vertical-align: top;\n",
              "    }\n",
              "\n",
              "    .dataframe thead th {\n",
              "        text-align: right;\n",
              "    }\n",
              "</style>\n",
              "<table border=\"1\" class=\"dataframe\">\n",
              "  <thead>\n",
              "    <tr style=\"text-align: right;\">\n",
              "      <th></th>\n",
              "      <th>sucesso</th>\n",
              "    </tr>\n",
              "  </thead>\n",
              "  <tbody>\n",
              "    <tr>\n",
              "      <th>0</th>\n",
              "      <td>0.009352</td>\n",
              "    </tr>\n",
              "  </tbody>\n",
              "</table>\n",
              "</div>"
            ],
            "text/plain": [
              "    sucesso\n",
              "0  0.009352"
            ]
          },
          "metadata": {
            "tags": []
          },
          "execution_count": 72
        }
      ]
    },
    {
      "cell_type": "code",
      "metadata": {
        "colab": {
          "base_uri": "https://localhost:8080/"
        },
        "id": "q_xL-5dZjPea",
        "outputId": "b2c346ff-20f3-4474-feea-fcbb490c5c01"
      },
      "source": [
        "##testa o paciente com o comitê da rede gerada\n",
        "\n",
        "paciente = [[1,21,0,0,0,1,1,80,26.7,2]]\n",
        "paciente = pd.DataFrame(paciente,columns=['gender','age','hypertension','heart_disease','ever_married','work_type','Residence_type','avg_glucose_level','bmi','smoking_status'])\n",
        "\n",
        "\n",
        "respostas_proba0  = (modelo.predict_proba(paciente))*100\n",
        "respostas_proba1 = (modelo1.predict_proba(paciente))*100\n",
        "respostas_proba2 = (modelo2.predict_proba(paciente))*100\n",
        "\n",
        "\n",
        "respostas_proba0 =pd.DataFrame(respostas_proba0, columns=['falha','sucesso']) \n",
        "respostas_proba0 = respostas_proba0[['sucesso']]\n",
        "\n",
        "respostas_proba1 =pd.DataFrame(respostas_proba1,columns=['falha','sucesso']) \n",
        "respostas_proba1 = respostas_proba1[['sucesso']]\n",
        "\n",
        "respostas_proba2 =pd.DataFrame(respostas_proba2,columns=['falha','sucesso']) \n",
        "respostas_proba2 = respostas_proba2[['sucesso']]\n",
        "\n",
        "\n",
        "lista  = list(respostas_proba0['sucesso'])\n",
        "lista1 = list(respostas_proba1['sucesso'])\n",
        "lista2 = list(respostas_proba2['sucesso'])\n",
        "\n",
        "listas = (lista,lista1,lista2)\n",
        "listas = np.array(listas).T\n",
        "probabilidade =pd.DataFrame(listas,columns=['sucesso0','sucesso1','sucesso2']) \n",
        "probabilidade['sucesso'] = probabilidade.sum(axis=1)\n",
        "respostas_proba['sucesso'] = probabilidade['sucesso']/3\n",
        "respostas_proba = np.array(respostas_proba)\n",
        "respostas_proba =pd.DataFrame(respostas_proba,columns=['sucesso'])\n",
        "\n",
        "resultado = respostas_proba['sucesso'].head(1)\n",
        "\n",
        "resultado = np.array(resultado)\n",
        "resultado = resultado[0]\n",
        "print(\"você tem %.2f\"% resultado,'% de chance de ter um derrame')"
      ],
      "execution_count": null,
      "outputs": [
        {
          "output_type": "stream",
          "text": [
            "você tem 3.78 % de chance de ter um derrame\n"
          ],
          "name": "stdout"
        }
      ]
    },
    {
      "cell_type": "markdown",
      "metadata": {
        "id": "Xnb7AtQ5Bdzb"
      },
      "source": [
        "Transformando esse cogigo em uma classe para que possa ser implementado em uma aplicação"
      ]
    },
    {
      "cell_type": "code",
      "metadata": {
        "id": "lrvu87Q-Bcy8"
      },
      "source": [
        "## classe de IA unica\n",
        "import os\n",
        "import zipfile\n",
        "import numpy as np\n",
        "import pandas as pd\n",
        "import matplotlib.pyplot as mp\n",
        "from imblearn.over_sampling import SMOTENC\n",
        "from sklearn.preprocessing import LabelEncoder\n",
        "from sklearn.model_selection import train_test_split\n",
        "from sklearn.neighbors import KNeighborsClassifier\n",
        "from sklearn.metrics import classification_report\n",
        "from sklearn.neural_network import MLPClassifier\n",
        "from sklearn.metrics import accuracy_score \n",
        "from sklearn.svm import SVC\n",
        "\n",
        "class ICPD:\n",
        "\n",
        "  ##declaração da classe\n",
        "  def __init__(self,amostra=True,tipo=1):\n",
        "    self.amostra = amostra\n",
        "    self.tipo = tipo\n",
        "    self.banco = []\n",
        "    self.X = []\n",
        "    self.Y = []\n",
        "    if tipo==1:\n",
        "      self.modelo = SVC(probability = True, kernel= 'rbf')\n",
        "    elif tipo==2:\n",
        "      self.modelo = SVC(probability = True, kernel= 'linear')\n",
        "    elif tipo==3:\n",
        "      self.modelo = SVC(probability = True, kernel= 'sigmoid')\n",
        "    elif tipo==4:\n",
        "      self.modelo = SVC(probability = True, kernel= 'poly',degree=2) \n",
        "    elif tipo==5:\n",
        "      self.modelo = KNeighborsClassifier(weights='distance', n_neighbors= 7)\n",
        "    elif tipo==6:\n",
        "      self.modelo = MLPClassifier(random_state=2, hidden_layer_sizes = (200,2),learning_rate= 'adaptive')  \n",
        "    self.certas = []     \n",
        "    self.proba  = []\n",
        "\n",
        "  ##metodo que passa o banco de dados para uma variavel pandas e pre processa eles\n",
        "  def iniciar(self):\n",
        "    os.environ['KAGGLE_CONFIG_DIR']='/content'\n",
        "    !kaggle datasets download -d fedesoriano/stroke-prediction-dataset\n",
        "    with zipfile.ZipFile('/content/stroke-prediction-dataset.zip', 'r') as zip_ref:\n",
        "      zip_ref.extractall('/content')\n",
        "    dados= pd.read_csv('healthcare-dataset-stroke-data.csv')\n",
        "    dados['smoking_status'] = dados['smoking_status'].replace(['Unknown'], 'never smoked')\n",
        "    dados[['bmi']]=dados[['bmi']].fillna(26)\n",
        "    classificador = LabelEncoder() \n",
        "    dados[['gender']] = classificador.fit_transform(dados[['gender']])\n",
        "    dados[['ever_married']] = classificador.fit_transform(dados[['ever_married']])\n",
        "    dados[['work_type']] = classificador.fit_transform(dados[['work_type']])\n",
        "    dados[['Residence_type']] = classificador.fit_transform(dados[['Residence_type']])\n",
        "    dados[['smoking_status']] = classificador.fit_transform(dados[['smoking_status']])\n",
        "    self.banco = dados\n",
        "\n",
        "  ##metodo que faz o ajuste da amostra via overampling caso 'amostra' == FALSE ou undersampling caso 'amostra' == TRUE  \n",
        "  def ajuste(self):\n",
        "    dados = self.banco\n",
        "    if self.amostra == True:\n",
        "      saudaveis = dados[dados.stroke == 0].index\n",
        "      amostra_s = np.random.choice(saudaveis, 250, replace=False)\n",
        "      doentes = dados[dados.stroke == 1].index\n",
        "      amostra = dados.loc[amostra_s]\n",
        "      amostra = amostra.append(dados.loc[doentes])\n",
        "      dados = amostra\n",
        "      x= dados[['gender','age','hypertension','heart_disease','ever_married','work_type','Residence_type','avg_glucose_level','bmi','smoking_status']]\n",
        "      y= dados[['stroke']]\n",
        "    else:\n",
        "      x= dados[['gender','age','hypertension','heart_disease','ever_married','work_type','Residence_type','avg_glucose_level','bmi','smoking_status']]\n",
        "      y= dados[['stroke']]\n",
        "      smt=SMOTENC(categorical_features=[0, 2], random_state=0)\n",
        "      x,y = smt.fit_resample(x,y)\n",
        "      x = pd.DataFrame(x,columns=['gender','age','hypertension','heart_disease','ever_married','work_type','Residence_type','avg_glucose_level','bmi','smoking_status'])\n",
        "      x['work_type'] = x['work_type'].round(0)      \n",
        "      x['smoking_status'] = x['smoking_status'].round(0)  \n",
        "      x['Residence_type'] = x['Residence_type'].round(0)\n",
        "      x['heart_disease'] = x['heart_disease'].round(0)\n",
        "      x['ever_married'] = x['ever_married'].round(0)\n",
        "      x['age'] = x['age'].round(0)\n",
        "      y = pd.DataFrame(y,columns=['stroke'])\n",
        "      dados = x\n",
        "      dados.insert(10, 'stroke', 0, allow_duplicates=False)\n",
        "      dados[['stroke']] = y\n",
        "      x = x[['gender','age','hypertension','heart_disease','ever_married','work_type','Residence_type','avg_glucose_level','bmi','smoking_status']]\n",
        "    self.banco= dados\n",
        "    self.X= x\n",
        "    self.Y= y \n",
        "\n",
        "  ##metodo que treina a IA e armazena dados para a geração do grafico\n",
        "  def treino(self):\n",
        "    x= self.X\n",
        "    y= self.Y \n",
        "    treino_x, teste_x, treino_y, teste_y = train_test_split(x,y)\n",
        "    self.modelo.fit(treino_x,treino_y)\n",
        "    respostas_proba = (self.modelo.predict_proba(teste_x))*100\n",
        "    respostas = self.modelo.predict(teste_x)\n",
        "    respostas_proba =pd.DataFrame(respostas_proba,columns=['falha','sucesso']) \n",
        "    respostas_proba = respostas_proba[['sucesso']]\n",
        "    respostas_certas = teste_y*100\n",
        "    self.certas= respostas_certas\n",
        "    self.proba = respostas_proba\n",
        "\n",
        "  ##metodo que gera um grafico para exibição\n",
        "  def grafico(self):\n",
        "    respostas_certas = self.certas.head(51)\n",
        "    respostas_proba = self.proba.head(51)\n",
        "    altura1 = []\n",
        "    altura2 = []\n",
        "    altura3 = []\n",
        "    for eixo in respostas_certas['stroke']:\n",
        "      altura1.append(eixo)\n",
        "    for eixo in respostas_proba['sucesso']:\n",
        "      altura2.append(eixo)\n",
        "    for altura in altura1:\n",
        "      altura3.append((altura-100)*-1)\n",
        "    tamanho = np.arange(51)\n",
        "    fig,ax = mp.subplots(figsize=(20,12))\n",
        "    mp.bar(tamanho,altura3,color = '#92e698')\n",
        "    mp.bar(tamanho,altura1,color = '#e69292')\n",
        "    mp.plot(tamanho,respostas_proba[['sucesso']],lw=1,marker='o',ms=6,c='#4946c5')\n",
        "    mp.xlabel('Pacientes')\n",
        "    mp.ylabel('porcentagem')\n",
        "    mp.grid()\n",
        "    mp.show()\n",
        "    ##mp.savefig(\"desempenho.png\",dpi=300)\n",
        "  \n",
        "  ##metodo que recebe os dados do paciente e da um valor em porcentagem da chance dessa pessoa ter derrame de acordo com o banco de dados analizados\n",
        "  def diagnostico(self,paciente):\n",
        "    ficha = paciente.get_data()\n",
        "    chute = self.modelo.predict_proba(ficha) * 100\n",
        "    chute = pd.DataFrame(chute,columns=['falha','sucesso'])\n",
        "    chute = chute['sucesso']\n",
        "    chute = np.array(chute)\n",
        "    chute = chute[0]\n",
        "    return chute"
      ],
      "execution_count": null,
      "outputs": []
    },
    {
      "cell_type": "code",
      "metadata": {
        "id": "3m4_xqVcwUmr"
      },
      "source": [
        "## classe de comitê\n",
        "import os\n",
        "import zipfile\n",
        "import numpy as np\n",
        "import pandas as pd\n",
        "import matplotlib.pyplot as mp\n",
        "from imblearn.over_sampling import SMOTENC\n",
        "from sklearn.preprocessing import LabelEncoder\n",
        "from sklearn.model_selection import train_test_split\n",
        "from sklearn.neighbors import KNeighborsClassifier\n",
        "from sklearn.metrics import classification_report\n",
        "from sklearn.neural_network import MLPClassifier\n",
        "from sklearn.metrics import accuracy_score \n",
        "from sklearn.svm import SVC\n",
        "\n",
        "class CCPD:\n",
        "\n",
        "  ##declaração da classe\n",
        "  def __init__(self):\n",
        "    os.environ['KAGGLE_CONFIG_DIR']='/content'\n",
        "    !kaggle datasets download -d fedesoriano/stroke-prediction-dataset\n",
        "    with zipfile.ZipFile('/content/stroke-prediction-dataset.zip', 'r') as zip_ref:\n",
        "      zip_ref.extractall('/content')\n",
        "    dados = pd.read_csv('healthcare-dataset-stroke-data.csv')\n",
        "    dados1= pd.read_csv('healthcare-dataset-stroke-data.csv')\n",
        "    dados['smoking_status'] = dados['smoking_status'].replace(['Unknown'], 'never smoked')\n",
        "    dados[['bmi']]=dados[['bmi']].fillna(26)\n",
        "    classificador = LabelEncoder() \n",
        "    dados[['gender']] = classificador.fit_transform(dados[['gender']])\n",
        "    dados[['ever_married']] = classificador.fit_transform(dados[['ever_married']])\n",
        "    dados[['work_type']] = classificador.fit_transform(dados[['work_type']])\n",
        "    dados[['Residence_type']] = classificador.fit_transform(dados[['Residence_type']])\n",
        "    dados[['smoking_status']] = classificador.fit_transform(dados[['smoking_status']])\n",
        "    dados1['smoking_status'] = dados1['smoking_status'].replace(['Unknown'], 'never smoked')\n",
        "    dados1[['bmi']]=dados[['bmi']].fillna(26)\n",
        "    classificador = LabelEncoder() \n",
        "    dados1[['gender']] = classificador.fit_transform(dados1[['gender']])\n",
        "    dados1[['ever_married']] = classificador.fit_transform(dados1[['ever_married']])\n",
        "    dados1[['work_type']] = classificador.fit_transform(dados1[['work_type']])\n",
        "    dados1[['Residence_type']] = classificador.fit_transform(dados1[['Residence_type']])\n",
        "    dados1[['smoking_status']] = classificador.fit_transform(dados1[['smoking_status']])\n",
        "    saudaveis = dados1[dados1.stroke == 0].index\n",
        "    amostra_s = np.random.choice(saudaveis, 250, replace=False)\n",
        "    doentes = dados1[dados1.stroke == 1].index\n",
        "    amostra = dados1.loc[amostra_s]\n",
        "    amostra = amostra.append(dados1.loc[doentes])\n",
        "    dados1  = amostra\n",
        "    x1= dados1[['gender','age','hypertension','heart_disease','ever_married','work_type','Residence_type','avg_glucose_level','bmi','smoking_status']]\n",
        "    y1= dados1[['stroke']]\n",
        "    x= dados[['gender','age','hypertension','heart_disease','ever_married','work_type','Residence_type','avg_glucose_level','bmi','smoking_status']]\n",
        "    y= dados[['stroke']]\n",
        "    smt=SMOTENC(categorical_features=[0, 2], random_state=0)\n",
        "    x,y = smt.fit_resample(x,y)\n",
        "    x = pd.DataFrame(x,columns=['gender','age','hypertension','heart_disease','ever_married','work_type','Residence_type','avg_glucose_level','bmi','smoking_status'])\n",
        "    x['work_type'] = x['work_type'].round(0)      \n",
        "    x['smoking_status'] = x['smoking_status'].round(0)  \n",
        "    x['Residence_type'] = x['Residence_type'].round(0)\n",
        "    x['heart_disease'] = x['heart_disease'].round(0)\n",
        "    x['ever_married'] = x['ever_married'].round(0)\n",
        "    x['age'] = x['age'].round(0)\n",
        "    y = pd.DataFrame(y,columns=['stroke'])\n",
        "    dados = x\n",
        "    dados.insert(10, 'stroke', 0, allow_duplicates=False)\n",
        "    dados[['stroke']] = y\n",
        "    x = x[['gender','age','hypertension','heart_disease','ever_married','work_type','Residence_type','avg_glucose_level','bmi','smoking_status']]\n",
        "    self.modelo   = MLPClassifier(random_state=2, hidden_layer_sizes = (200,2),learning_rate= 'adaptive')\n",
        "    self.modelo1  = KNeighborsClassifier(weights='distance', n_neighbors= 10)\n",
        "    self.modelo2  = SVC(probability = True, kernel= 'poly',degree=2)\n",
        "    treino_x, teste_x, treino_y, teste_y = train_test_split(x,y)\n",
        "    treino_x1, teste_x1, treino_y1, teste_y1 = train_test_split(x1,y1)\n",
        "    self.modelo.fit(treino_x,treino_y)\n",
        "    self.modelo1.fit(treino_x,treino_y)\n",
        "    self.modelo2.fit(treino_x1,treino_y1)\n",
        "    respostas_proba0 = (self.modelo.predict_proba(teste_x))*100\n",
        "    respostas_proba1 = (self.modelo1.predict_proba(teste_x))*100\n",
        "    respostas_proba2 = (self.modelo2.predict_proba(teste_x))*100\n",
        "    respostas0 = self.modelo.predict(teste_x)\n",
        "    respostas1 = self.modelo1.predict(teste_x)\n",
        "    respostas2 = self.modelo2.predict(teste_x)\n",
        "    acuracia  = accuracy_score(teste_y,respostas0)*100\n",
        "    acuracia1 = accuracy_score(teste_y,respostas1)*100\n",
        "    acuracia2 = accuracy_score(teste_y,respostas2)*100\n",
        "    respostas_proba0 =pd.DataFrame(respostas_proba0, columns=['falha','sucesso']) \n",
        "    respostas_proba0 = respostas_proba0[['sucesso']]\n",
        "    respostas_proba1 =pd.DataFrame(respostas_proba1,columns=['falha','sucesso']) \n",
        "    respostas_proba1 = respostas_proba1[['sucesso']]\n",
        "    respostas_proba2 =pd.DataFrame(respostas_proba2,columns=['falha','sucesso']) \n",
        "    respostas_proba2 = respostas_proba2[['sucesso']]\n",
        "    lista  = list(respostas_proba0['sucesso'])\n",
        "    lista1 = list(respostas_proba1['sucesso'])\n",
        "    lista2 = list(respostas_proba2['sucesso'])\n",
        "    listas = (lista,lista1,lista2)\n",
        "    listas = np.array(listas).T\n",
        "    probabilidade =pd.DataFrame(listas,columns=['sucesso0','sucesso1','sucesso2']) \n",
        "    probabilidade['sucesso'] = probabilidade.sum(axis=1)\n",
        "    probabilidade['sucesso'] = probabilidade['sucesso']/3\n",
        "    respostas_proba = np.array(probabilidade['sucesso'])\n",
        "    self.respostas_proba =pd.DataFrame(respostas_proba,columns=['sucesso'])\n",
        "    respostas = (respostas0,respostas1,respostas2)\n",
        "    respostas = np.array(respostas).T\n",
        "    comite =pd.DataFrame(respostas,columns=['chute','chute1','chute2']) \n",
        "    comite['soma'] = comite.sum(axis=1)\n",
        "    respostas = comite['soma']/3\n",
        "    respostas = respostas.round()\n",
        "    self.respostas_certas = teste_y*100\n",
        "\n",
        "  ##metodo que gera um grafico para exibição\n",
        "  def grafico(self):\n",
        "    respostas_certas = self.respostas_certas.head(51)\n",
        "    respostas_proba = self.respostas_proba.head(51)\n",
        "    altura1 = []\n",
        "    altura2 = []\n",
        "    altura3 = []\n",
        "    for eixo in respostas_certas['stroke']:\n",
        "      altura1.append(eixo)\n",
        "    for eixo in respostas_proba['sucesso']:\n",
        "      altura2.append(eixo)\n",
        "    for altura in altura1:\n",
        "      altura3.append((altura-100)*-1)\n",
        "    tamanho = np.arange(51)\n",
        "    fig,ax = mp.subplots(figsize=(20,12))\n",
        "    mp.bar(tamanho,altura3,color = '#92e698')\n",
        "    mp.bar(tamanho,altura1,color = '#e69292')\n",
        "    mp.plot(tamanho,respostas_proba[['sucesso']],lw=1,marker='o',ms=6,c='#4946c5')\n",
        "    mp.xlabel('Pacientes')\n",
        "    mp.ylabel('porcentagem')\n",
        "    mp.grid()\n",
        "    mp.show()\n",
        "    ##mp.savefig(\"desempenho.png\",dpi=300)\n",
        "  \n",
        "  ##metodo que recebe os dados do paciente e da um valor em porcentagem da chance dessa pessoa ter derrame de acordo com o banco de dados analizados\n",
        "  def diagnostico(self,paciente):\n",
        "    ficha = paciente.get_data()\n",
        "    respostas_proba0 = (self.modelo.predict_proba(ficha))*100\n",
        "    respostas_proba1 = (self.modelo1.predict_proba(ficha))*100\n",
        "    respostas_proba2 = (self.modelo2.predict_proba(ficha))*100\n",
        "    respostas_proba0 = pd.DataFrame(respostas_proba0, columns=['falha','sucesso']) \n",
        "    respostas_proba0 = respostas_proba0[['sucesso']]\n",
        "    respostas_proba1 = pd.DataFrame(respostas_proba1,columns=['falha','sucesso']) \n",
        "    respostas_proba1 = respostas_proba1[['sucesso']]\n",
        "    respostas_proba2 = pd.DataFrame(respostas_proba2,columns=['falha','sucesso']) \n",
        "    respostas_proba2 = respostas_proba2[['sucesso']]\n",
        "    lista  = list(respostas_proba0['sucesso'])\n",
        "    lista1 = list(respostas_proba1['sucesso'])\n",
        "    lista2 = list(respostas_proba2['sucesso'])\n",
        "    listas = (lista,lista1,lista2)\n",
        "    listas = np.array(listas).T\n",
        "    probabilidade =pd.DataFrame(listas,columns=['sucesso0','sucesso1','sucesso2']) \n",
        "    probabilidade['sucesso'] = probabilidade.sum(axis=1)\n",
        "    probabilidade['sucesso'] = probabilidade['sucesso']/3\n",
        "    respostas_proba = np.array(probabilidade['sucesso'])\n",
        "    respostas_proba =pd.DataFrame(respostas_proba,columns=['sucesso'])\n",
        "    resultado = respostas_proba['sucesso'].head(1)\n",
        "    resultado = np.array(resultado)\n",
        "    resultado = resultado[0]\n",
        "    return resultado"
      ],
      "execution_count": null,
      "outputs": []
    }
  ]
}