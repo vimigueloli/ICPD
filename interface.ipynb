{
  "nbformat": 4,
  "nbformat_minor": 0,
  "metadata": {
    "colab": {
      "name": "tela ",
      "provenance": [],
      "authorship_tag": "ABX9TyMmqHFJDsNF5O4fTU2vGpbU",
      "include_colab_link": true
    },
    "kernelspec": {
      "name": "python3",
      "display_name": "Python 3"
    },
    "language_info": {
      "name": "python"
    }
  },
  "cells": [
    {
      "cell_type": "markdown",
      "metadata": {
        "id": "view-in-github",
        "colab_type": "text"
      },
      "source": [
        "<a href=\"https://colab.research.google.com/github/vimigueloli/ICPD/blob/main/interface.ipynb\" target=\"_parent\"><img src=\"https://colab.research.google.com/assets/colab-badge.svg\" alt=\"Open In Colab\"/></a>"
      ]
    },
    {
      "cell_type": "code",
      "metadata": {
        "id": "XKfSY8KwtDW0"
      },
      "source": [
        "#@title ICPD inteligencia classificadora para derrame\n",
        "\n",
        "\n",
        "sexo='masculino' #@param ['masculino','feminino']\n",
        "idade= 0 #@param {type:\"slider\", min:0, max:115} \n",
        "hipertensao= False #@param {type:\"boolean\"}\n",
        "doenca_do_coracao= False #@param {type:\"boolean\"}\n",
        "ja_casou= False #@param {type:\"boolean\"}\n",
        "tipo_de_trabalho= 'autonomo'#@param ['autonomo', 'privado', 'governamental', 'criança', 'nunca trabalhou']\n",
        "vive_na_cidade= True #@param {type:\"boolean\"}\n",
        "nivel_de_glucose= 80 #@param {type:\"slider\", min:50, max:170} \n",
        "peso= 75 #@param {type:\"slider\", min:1, max:200, step: 0.1} \n",
        "altura= 0.5 #@param {type:\"slider\", min:0.15, max:2.30, step: 0.01}\n",
        "fumante='formalmente' #@param ['formalmente','nunca fumou','fumante']"
      ],
      "execution_count": null,
      "outputs": []
    },
    {
      "cell_type": "code",
      "metadata": {
        "id": "d-83zWNLvJbu"
      },
      "source": [
        ""
      ],
      "execution_count": null,
      "outputs": []
    }
  ]
}